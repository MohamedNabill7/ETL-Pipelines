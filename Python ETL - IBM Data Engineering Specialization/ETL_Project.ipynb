{
 "cells": [
  {
   "cell_type": "markdown",
   "metadata": {},
   "source": [
    "## Project Scenario\n",
    "----\n"
   ]
  },
  {
   "cell_type": "markdown",
   "metadata": {},
   "source": [
    "Compile the list of the top 10 largest banks in the world ranked by market capitalization in billion USD. Further, you need to transform the data and store it in USD, GBP, EUR, and INR per the exchange rate information made available to you as a CSV file. You should save the processed information table locally in a CSV format and as a database table. Managers from different countries will query the database table to extract the list and note the market capitalization value in their own currency.\n"
   ]
  },
  {
   "cell_type": "code",
   "execution_count": 1,
   "metadata": {},
   "outputs": [],
   "source": [
    "import pandas as pd \n",
    "import numpy as np \n",
    "import requests\n",
    "from bs4 import BeautifulSoup\n",
    "from datetime import datetime\n",
    "import sqlite3\n",
    "\n",
    "url = 'https://web.archive.org/web/20230908091635 /https://en.wikipedia.org/wiki/List_of_largest_banks'\n",
    "table_attribs = ['Name','MC_USD_Billion']\n",
    "csv_path = './Largest_banks_data.csv'\n",
    "table_name = 'Largest_banks'\n",
    "log_file = './code_log.txt'"
   ]
  },
  {
   "cell_type": "code",
   "execution_count": 2,
   "metadata": {},
   "outputs": [],
   "source": [
    "def log_progress(message):\n",
    "    ''' This function logs the mentioned message of a given stage of the code execution to a log file.'''\n",
    "    now = datetime.now()\n",
    "    timestamp = now.strftime('%Y-%h-%d-%H:%M:%S')\n",
    "    with open(log_file,'a') as f:\n",
    "        f.write(timestamp+' : '+message+'\\n')\n",
    "\n",
    "\n",
    "log_progress('Preliminaries complete. Initiating ETL process')"
   ]
  },
  {
   "cell_type": "code",
   "execution_count": 3,
   "metadata": {},
   "outputs": [],
   "source": [
    "def extract(url, table_attribs):\n",
    "    ''' This function aims to extract the required information from the website and save it to a data frame.'''\n",
    "    df = pd.DataFrame(columns=table_attribs)\n",
    "\n",
    "    data = requests.get(url)\n",
    "    soup = BeautifulSoup(data.content,'html.parser')\n",
    "    pages = soup.find('tbody')\n",
    "    rows = pages.find_all('tr')\n",
    "    for row in rows:\n",
    "        col = row.find_all('td')\n",
    "        if len(col) != 0:\n",
    "            dict_ = {\n",
    "                'Name': col[1].text[:-1],\n",
    "                'MC_USD_Billion': float(col[2].text[:-1])\n",
    "            }\n",
    "            df_ = pd.DataFrame(dict_,index=[0])\n",
    "            df = pd.concat([df,df_],ignore_index=True)\n",
    "\n",
    "    return df\n",
    "\n",
    "\n",
    "log_progress('Data extraction complete. Initiating Transformation process')"
   ]
  },
  {
   "cell_type": "code",
   "execution_count": 4,
   "metadata": {},
   "outputs": [],
   "source": [
    "def transform(df):\n",
    "    ''' This function accesses the CSV file for exchange rate information, and adds three columns to the data frame, \n",
    "    each containing the transformed version of Market Cap column to respective currencies'''\n",
    "    \n",
    "    exchange_rate = {'EUR':0.93,'GBP':0.8,'INR':82.95}\n",
    "    \n",
    "    df['MC_EUR_Billion'] = [np.round(x*exchange_rate['EUR'],2) for x in df['MC_USD_Billion']]\n",
    "    df['MC_GBP_Billion'] = [np.round(x*exchange_rate['GBP'],2) for x in df['MC_USD_Billion']]\n",
    "    df['MC_INR_Billion'] = [np.round(x*exchange_rate['INR'],2) for x in df['MC_USD_Billion']]\n",
    "\n",
    "    return df\n",
    "\n",
    "\n",
    "log_progress('Data transformation complete. Initiating Loading process')"
   ]
  },
  {
   "cell_type": "code",
   "execution_count": 5,
   "metadata": {},
   "outputs": [],
   "source": [
    "def load_to_csv(df, csv_path):\n",
    "    ''' This function saves the final data frame as a CSV file in the provided path.'''\n",
    "    df.to_csv(csv_path,index=True)\n",
    "\n",
    "\n",
    "log_progress('Data saved to CSV file')"
   ]
  },
  {
   "cell_type": "code",
   "execution_count": 6,
   "metadata": {},
   "outputs": [],
   "source": [
    "connection = sqlite3.connect('Banks.db')\n",
    "log_progress('SQL Connection initiated')\n",
    "\n",
    "def load_to_db(df, connection, table_name):\n",
    "    ''' This function saves the final data frame to a database table with the provided name.'''\n",
    "    df.to_sql(table_name,connection,if_exists='replace',index=False)\n",
    "\n",
    "\n",
    "log_progress('Data loaded to Database as a table, Executing queries')"
   ]
  },
  {
   "cell_type": "code",
   "execution_count": 7,
   "metadata": {},
   "outputs": [],
   "source": [
    "def run_query(sql_statement, connection):\n",
    "    ''' This function runs the query on the database table and prints the output on the terminal. '''\n",
    "    query = pd.read_sql(sql_statement,connection)\n",
    "    print(query)\n",
    "\n",
    "\n",
    "log_progress('Process Complete')"
   ]
  },
  {
   "cell_type": "code",
   "execution_count": 8,
   "metadata": {},
   "outputs": [],
   "source": [
    "extracted_data = extract(url,table_attribs)\n",
    "transformed_data = transform(extracted_data)\n",
    "load_data_csv = load_to_csv(transformed_data,csv_path)\n",
    "load_data_db = load_to_db(transformed_data,connection,table_name)"
   ]
  },
  {
   "cell_type": "code",
   "execution_count": 9,
   "metadata": {},
   "outputs": [
    {
     "name": "stdout",
     "output_type": "stream",
     "text": [
      "                                       Name  MC_USD_Billion  MC_EUR_Billion  \\\n",
      "0                            JPMorgan Chase          432.92          402.62   \n",
      "1                           Bank of America          231.52          215.31   \n",
      "2   Industrial and Commercial Bank of China          194.56          180.94   \n",
      "3                Agricultural Bank of China          160.68          149.43   \n",
      "4                                 HDFC Bank          157.91          146.86   \n",
      "5                               Wells Fargo          155.87          144.96   \n",
      "6                         HSBC Holdings PLC          148.90          138.48   \n",
      "7                            Morgan Stanley          140.83          130.97   \n",
      "8                   China Construction Bank          139.82          130.03   \n",
      "9                             Bank of China          136.81          127.23   \n",
      "\n",
      "   MC_GBP_Billion  MC_INR_Billion  \n",
      "0          346.34        35910.71  \n",
      "1          185.22        19204.58  \n",
      "2          155.65        16138.75  \n",
      "3          128.54        13328.41  \n",
      "4          126.33        13098.63  \n",
      "5          124.70        12929.42  \n",
      "6          119.12        12351.26  \n",
      "7          112.66        11681.85  \n",
      "8          111.86        11598.07  \n",
      "9          109.45        11348.39  \n",
      "   avg(MC_GBP_Billion)\n",
      "0              151.987\n",
      "                                       Name\n",
      "0                            JPMorgan Chase\n",
      "1                           Bank of America\n",
      "2   Industrial and Commercial Bank of China\n",
      "3                Agricultural Bank of China\n",
      "4                                 HDFC Bank\n"
     ]
    }
   ],
   "source": [
    "output1 = run_query('Select * from Largest_banks',connection)\n",
    "output1 = run_query('Select avg(MC_GBP_Billion) from Largest_banks',connection)\n",
    "output1 = run_query('Select Name from Largest_banks order by MC_USD_Billion desc limit 5',connection)"
   ]
  },
  {
   "cell_type": "code",
   "execution_count": 10,
   "metadata": {},
   "outputs": [],
   "source": [
    "connection.close()\n",
    "log_progress('Server Connection closed')"
   ]
  },
  {
   "cell_type": "code",
   "execution_count": null,
   "metadata": {},
   "outputs": [],
   "source": []
  }
 ],
 "metadata": {
  "kernelspec": {
   "display_name": "Python 3",
   "language": "python",
   "name": "python3"
  },
  "language_info": {
   "codemirror_mode": {
    "name": "ipython",
    "version": 3
   },
   "file_extension": ".py",
   "mimetype": "text/x-python",
   "name": "python",
   "nbconvert_exporter": "python",
   "pygments_lexer": "ipython3",
   "version": "3.9.4"
  }
 },
 "nbformat": 4,
 "nbformat_minor": 2
}
